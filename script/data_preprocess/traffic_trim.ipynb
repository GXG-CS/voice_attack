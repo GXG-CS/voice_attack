{
 "cells": [
  {
   "cell_type": "code",
   "execution_count": 17,
   "metadata": {},
   "outputs": [],
   "source": [
    "from scapy.all import rdpcap, wrpcap, PcapReader\n",
    "import datetime\n",
    "\n",
    "def trim_pcap(input_pcap_path, output_pcap_path, head_trim_sec=0, tail_trim_sec=0):\n",
    "    \"\"\"\n",
    "    Trims the head and/or tail of a PCAP file.\n",
    "    \n",
    "    Args:\n",
    "    input_pcap_path (str): Path to the input PCAP file.\n",
    "    output_pcap_path (str): Path to the output PCAP file.\n",
    "    head_trim_sec (float): Number of seconds to trim from the start of the PCAP. Default is 0.5 seconds.\n",
    "    tail_trim_sec (float): Number of seconds to trim from the end of the PCAP. Default is 1.0 second.\n",
    "    \"\"\"\n",
    "    packets = rdpcap(input_pcap_path)\n",
    "    start_time = packets[0].time\n",
    "    end_time = packets[-1].time\n",
    "\n",
    "    trimmed_packets = [pkt for pkt in packets if (pkt.time >= start_time + head_trim_sec) and (pkt.time <= end_time - tail_trim_sec)]\n",
    "\n",
    "    wrpcap(output_pcap_path, trimmed_packets)\n",
    "\n",
    "# Example usage:\n",
    "# trim_pcap('input.pcap', 'trimmed_output.pcap', head_trim_sec=0.5, tail_trim_sec=1.0)\n",
    "\n",
    "\n",
    "# Usage example\n",
    "input_pcap = '/Users/xiaoguang_guo@mines.edu/Documents/voice_attack/data_processed/vc_200/alexa/total3/4/2.pcap'\n",
    "output_pcap = 'trimmed_output.pcap'\n",
    "\n",
    "trim_pcap(input_pcap, 'trimmed_output.pcap', head_trim_sec=0.5, tail_trim_sec=1.0)\n"
   ]
  },
  {
   "cell_type": "code",
   "execution_count": null,
   "metadata": {},
   "outputs": [],
   "source": [
    "import os\n",
    "from concurrent.futures import ThreadPoolExecutor\n",
    "from scapy.all import rdpcap, wrpcap\n",
    "# import shutil\n",
    "\n",
    "def trim_pcap(input_pcap_path, output_pcap_path, head_trim_sec=0.5, tail_trim_sec=1.0):\n",
    "    packets = rdpcap(input_pcap_path)\n",
    "    start_time = packets[0].time\n",
    "    end_time = packets[-1].time\n",
    "    trimmed_packets = [pkt for pkt in packets if (pkt.time >= start_time + head_trim_sec) and (pkt.time <= end_time - tail_trim_sec)]\n",
    "    wrpcap(output_pcap_path, trimmed_packets)\n",
    "\n",
    "def process_subfolder(root, subfolder, output_root, head_trim_sec, tail_trim_sec):\n",
    "    input_folder = os.path.join(root, subfolder)\n",
    "    output_folder = os.path.join(output_root, subfolder)\n",
    "    os.makedirs(output_folder, exist_ok=True)\n",
    "    \n",
    "    pcap_files = sorted([f for f in os.listdir(input_folder) if f.endswith('.pcap')], key=lambda x: int(x.split('.')[0]))\n",
    "    \n",
    "    for file in pcap_files:\n",
    "        input_pcap_path = os.path.join(input_folder, file)\n",
    "        output_pcap_path = os.path.join(output_folder, file)\n",
    "        trim_pcap(input_pcap_path, output_pcap_path, head_trim_sec, tail_trim_sec)\n",
    "\n",
    "def parallel_trim(root_folder, output_root_folder, head_trim_sec=0.5, tail_trim_sec=1.0):\n",
    "    subfolders = sorted([f for f in os.listdir(root_folder) if os.path.isdir(os.path.join(root_folder, f))], key=lambda x: int(x))\n",
    "    \n",
    "    with ThreadPoolExecutor() as executor:\n",
    "        futures = [executor.submit(process_subfolder, root_folder, subfolder, output_root_folder, head_trim_sec, tail_trim_sec) for subfolder in subfolders]\n",
    "        # Wait for all threads to complete\n",
    "        for future in futures:\n",
    "            future.result()\n",
    "\n",
    "# Example usage:\n",
    "parallel_trim('../../data_processed/vc_200/alexa/total3/', '../../data_processed/vc_200/alexa/trimmed_05_1/', head_trim_sec=0.5, tail_trim_sec=1.0)\n"
   ]
  }
 ],
 "metadata": {
  "kernelspec": {
   "display_name": "ame",
   "language": "python",
   "name": "python3"
  },
  "language_info": {
   "codemirror_mode": {
    "name": "ipython",
    "version": 3
   },
   "file_extension": ".py",
   "mimetype": "text/x-python",
   "name": "python",
   "nbconvert_exporter": "python",
   "pygments_lexer": "ipython3",
   "version": "3.9.18"
  }
 },
 "nbformat": 4,
 "nbformat_minor": 2
}
