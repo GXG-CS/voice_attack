{
 "cells": [
  {
   "cell_type": "code",
   "execution_count": 1,
   "metadata": {},
   "outputs": [
    {
     "name": "stdout",
     "output_type": "stream",
     "text": [
      "Filtered data saved to WiSec_unmonitored_trimmed_5_removeOutliers_features_filter.csv.\n"
     ]
    }
   ],
   "source": [
    "import pandas as pd\n",
    "\n",
    "# Load the CSV file\n",
    "file_path = '../../data_processed/WiSec_unmonitored_trimmed_5_removeOutliers_features.csv'  # Adjust this to the path of your CSV file\n",
    "df = pd.read_csv(file_path)\n",
    "\n",
    "# Filter the dataframe\n",
    "filtered_df = df[(df['duration_incoming'] >= 1) & (df['duration_outgoing'] >= 1)]\n",
    "\n",
    "# Save the filtered data to a new CSV file\n",
    "filtered_file_path = 'WiSec_unmonitored_trimmed_5_removeOutliers_features_filter.csv'  # Name of the new filtered CSV file\n",
    "filtered_df.to_csv(filtered_file_path, index=False)\n",
    "\n",
    "print(f\"Filtered data saved to {filtered_file_path}.\")\n"
   ]
  }
 ],
 "metadata": {
  "kernelspec": {
   "display_name": "ame",
   "language": "python",
   "name": "python3"
  },
  "language_info": {
   "codemirror_mode": {
    "name": "ipython",
    "version": 3
   },
   "file_extension": ".py",
   "mimetype": "text/x-python",
   "name": "python",
   "nbconvert_exporter": "python",
   "pygments_lexer": "ipython3",
   "version": "3.9.18"
  }
 },
 "nbformat": 4,
 "nbformat_minor": 2
}
